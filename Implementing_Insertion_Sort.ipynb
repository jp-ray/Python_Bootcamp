{
  "nbformat": 4,
  "nbformat_minor": 0,
  "metadata": {
    "colab": {
      "name": "Implementing Insertion Sort.ipynb",
      "provenance": [],
      "authorship_tag": "ABX9TyNKQpK62ctgr17oIl02BxzN",
      "include_colab_link": true
    },
    "kernelspec": {
      "name": "python3",
      "display_name": "Python 3"
    }
  },
  "cells": [
    {
      "cell_type": "markdown",
      "metadata": {
        "id": "view-in-github",
        "colab_type": "text"
      },
      "source": [
        "<a href=\"https://colab.research.google.com/github/jp-ray/Python_Bootcamp/blob/master/Implementing_Insertion_Sort.ipynb\" target=\"_parent\"><img src=\"https://colab.research.google.com/assets/colab-badge.svg\" alt=\"Open In Colab\"/></a>"
      ]
    },
    {
      "cell_type": "markdown",
      "metadata": {
        "id": "bXvEdm4tbEEb",
        "colab_type": "text"
      },
      "source": [
        "**CodeTable 1: Implementing Insertion Sort**"
      ]
    },
    {
      "cell_type": "code",
      "metadata": {
        "id": "pgy6DCtgbAUi",
        "colab_type": "code",
        "colab": {
          "base_uri": "https://localhost:8080/",
          "height": 289
        },
        "outputId": "a82f7a52-b465-4db6-a28e-82bdd9930aba"
      },
      "source": [
        "import random\n",
        "def insertionSort(array,n):\n",
        "  for j in range(1,n):\n",
        "    i=j-1\n",
        "    key=array[j];\n",
        "    while i>=0 and key<array[i]:\n",
        "      array[i+1]=array[i]\n",
        "      i=i-1\n",
        "    array[i+1]=key\n",
        "    print (array)\n",
        "\n",
        "def main():\n",
        "  array=[]\n",
        "  n=int(input('Enter the elements and -1 to end'))\n",
        "  while n>0:\n",
        "    n=int(input('Enter the elements and -1 to end'))\n",
        "    array.append(random.randint(1,100))\n",
        "  insertionSort(array,len(array))\n",
        "\n",
        "main()"
      ],
      "execution_count": null,
      "outputs": [
        {
          "output_type": "stream",
          "text": [
            "Enter the elements and -1 to end5\n",
            "Enter the elements and -1 to end3\n",
            "Enter the elements and -1 to end4\n",
            "Enter the elements and -1 to end6\n",
            "Enter the elements and -1 to end4\n",
            "Enter the elements and -1 to end6\n",
            "Enter the elements and -1 to end7\n",
            "Enter the elements and -1 to end4\n",
            "Enter the elements and -1 to end-1\n",
            "[46, 73, 85, 72, 55, 63, 12, 73]\n",
            "[46, 73, 85, 72, 55, 63, 12, 73]\n",
            "[46, 72, 73, 85, 55, 63, 12, 73]\n",
            "[46, 55, 72, 73, 85, 63, 12, 73]\n",
            "[46, 55, 63, 72, 73, 85, 12, 73]\n",
            "[12, 46, 55, 63, 72, 73, 85, 73]\n",
            "[12, 46, 55, 63, 72, 73, 73, 85]\n"
          ],
          "name": "stdout"
        }
      ]
    }
  ]
}